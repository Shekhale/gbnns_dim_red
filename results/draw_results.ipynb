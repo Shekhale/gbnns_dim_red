{
 "cells": [
  {
   "cell_type": "code",
   "execution_count": 12,
   "metadata": {
    "colab": {},
    "colab_type": "code",
    "id": "L4qkoFrZ3T5k"
   },
   "outputs": [],
   "source": [
    "import tqdm\n",
    "from tqdm import tqdm_notebook\n",
    "\n",
    "import time\n",
    "\n",
    "import numpy as np\n",
    "import matplotlib\n",
    "import matplotlib.pyplot as plt\n",
    "import mpl_toolkits.mplot3d.axes3d as axes3d\n",
    "\n",
    "import matplotlib.ticker as ticker"
   ]
  },
  {
   "cell_type": "code",
   "execution_count": 2,
   "metadata": {
    "colab": {},
    "colab_type": "code",
    "id": "vVmDyDSA3T5t"
   },
   "outputs": [],
   "source": [
    "# import warnings\n",
    "# warnings.filterwarnings('ignore')"
   ]
  },
  {
   "cell_type": "code",
   "execution_count": 3,
   "metadata": {
    "colab": {},
    "colab_type": "code",
    "id": "kX_YVTXH3T5w"
   },
   "outputs": [],
   "source": [
    "import pandas as pd\n",
    "import matplotlib.pyplot as plt\n",
    "import seaborn as sns"
   ]
  },
  {
   "cell_type": "code",
   "execution_count": 4,
   "metadata": {
    "colab": {},
    "colab_type": "code",
    "id": "s5_98I0w3T5z"
   },
   "outputs": [],
   "source": [
    "import os"
   ]
  },
  {
   "cell_type": "code",
   "execution_count": null,
   "metadata": {
    "colab": {},
    "colab_type": "code",
    "id": "jcoBuopc3T6R"
   },
   "outputs": [],
   "source": []
  },
  {
   "cell_type": "code",
   "execution_count": 14,
   "metadata": {
    "colab": {},
    "colab_type": "code",
    "id": "I9CowwTT3T6e"
   },
   "outputs": [],
   "source": [
    "def get_df(num_models, num_exper, file_names, model_names, y_axe,  y_axe_name, title, num_show = []):\n",
    "    acc_num = 3\n",
    "    dist_calc_num = 7\n",
    "    df = []\n",
    "    for i in range(len(file_names)):\n",
    "        file_name = os.path.expanduser(file_names[i])\n",
    "        data = np.genfromtxt(file_name, dtype=('U10','U10','U10',float,'U10',int,'U10',int,'U10',float)).tolist()\n",
    "        cur_line = -1\n",
    "        for mod in range(num_models[i]):\n",
    "            for j in range(num_exper[i]):\n",
    "                cur_line += 1\n",
    "                if y_axe == 9:\n",
    "                    df.append([1.00001 - data[cur_line][acc_num],\n",
    "                               1 / data[cur_line][y_axe], model_names[i][mod], title])\n",
    "                else:\n",
    "                    df.append([1.00001 - data[cur_line][acc_num],\n",
    "                              data[cur_line][y_axe], model_names[i][mod], title])\n",
    "\n",
    "    df = pd.DataFrame(df, columns=[\"Error = 1 - Recall@1\", y_axe_name, \"algorithm\", \"title\"])\n",
    "#     print(df.shape)\n",
    "    if len(num_show) > 0:\n",
    "        it = 0\n",
    "        itt = 0\n",
    "        num_for_iloc = []\n",
    "        model_names_list = []\n",
    "        for i in range(len(file_names)):\n",
    "            for mod in range(len(model_names[i])):\n",
    "                model_names_list.append(model_names[i][mod])\n",
    "        allowed_set = set()\n",
    "        same_dict = dict()\n",
    "        for i in range(len(file_names)):\n",
    "            for mod in range(len(model_names[i])):\n",
    "                if itt in num_show:\n",
    "                    allowed_set.add(model_names_list[i])\n",
    "                    for j in range(num_exper[i]):\n",
    "                        num_for_iloc.append(it)\n",
    "                        it += 1\n",
    "                else:\n",
    "                    it += num_exper[i]\n",
    "                itt += 1\n",
    "    df = df.iloc[num_for_iloc]\n",
    "    \n",
    "    return df"
   ]
  },
  {
   "cell_type": "code",
   "execution_count": null,
   "metadata": {},
   "outputs": [],
   "source": []
  },
  {
   "cell_type": "code",
   "execution_count": 15,
   "metadata": {},
   "outputs": [],
   "source": [
    "def show_results(frames, title, y_axe_name, x_log=True, y_log=False,\n",
    "                      dims=(18, 12), save=False, file_name='trash'):\n",
    "    size = len(frames)\n",
    "    ylim = [[500, 5000], [0, 1000],[0, 1000],[0, 1000]]\n",
    "    a4_dims = dims\n",
    "    fig, axs = plt.subplots(2, 2, figsize=a4_dims)\n",
    "    for i in range(2):\n",
    "        for j in range(2):\n",
    "            num = i * 2 + j\n",
    "            if i + j == 2:\n",
    "                sns.lineplot(x=\"Error = 1 - Recall@1\", y=y_axe_name,hue=\"algorithm\",\n",
    "                              markers=True, style=\"algorithm\", dashes=False,\n",
    "                              data=frames[num], ax=axs[i, j], linewidth=3, ms=15)\n",
    "            else:\n",
    "                sns.lineplot(x=\"Error = 1 - Recall@1\", y=y_axe_name,hue=\"algorithm\",\n",
    "                              markers=True, style=\"algorithm\", dashes=False,\n",
    "                              data=frames[num], ax=axs[i, j], legend=False, linewidth=3, ms=15)\n",
    "            \n",
    "            axs[i, j].set_title(title[num], size='30')\n",
    "\n",
    "            lx = axs[i, j].get_xlabel()\n",
    "            ly = axs[i, j].get_ylabel()\n",
    "            axs[i, j].set_xlabel(lx, fontsize=25)\n",
    "            axs[i, j].set_ylabel(ly, fontsize=25)\n",
    "            axs[i, j].set_xscale('log')\n",
    "            if i == 1 and j == 0:\n",
    "                axs[i, j].set_xticks([0.1, 1])\n",
    "            else:\n",
    "                axs[i, j].set_xticks([0.01, 0.1])\n",
    "            axs[i, j].get_xaxis().set_major_formatter(matplotlib.ticker.ScalarFormatter())\n",
    "            axs[i, j].tick_params(axis='both', which='both', labelsize=25)\n",
    "            axs[i, j].set_ymargin(0.075)\n",
    "            if i == 0:\n",
    "                axs[i, j].set_xlabel('')\n",
    "            if j == 1:\n",
    "                axs[i, j].set_ylabel('')\n",
    "            \n",
    "    plt.legend(loc=2, bbox_to_anchor=(1.05, 1, 0.5, 0.5), fontsize='30', markerscale=3, borderaxespad=0.)\n",
    "#     if y_log:\n",
    "#         for i in range(2):\n",
    "#             for j in range(2):\n",
    "#                 axs[i, j].set(yscale=\"log\")\n",
    "            \n",
    "#     if x_log:\n",
    "#         for i in range(2):\n",
    "#             for j in range(2):\n",
    "#                 axs[i, j].set(xscale=\"log\")# num_exper = [6, 6, 3]\n",
    "                \n",
    "    \n",
    "    if save:\n",
    "        fig.savefig(file_name + \".pdf\", bbox_inches='tight')"
   ]
  },
  {
   "cell_type": "code",
   "execution_count": null,
   "metadata": {},
   "outputs": [],
   "source": []
  },
  {
   "cell_type": "markdown",
   "metadata": {},
   "source": [
    "### Real Datasets"
   ]
  },
  {
   "cell_type": "code",
   "execution_count": 16,
   "metadata": {},
   "outputs": [],
   "source": [
    "path = '~/Desktop/results/naive_triplet_'"
   ]
  },
  {
   "cell_type": "code",
   "execution_count": 18,
   "metadata": {},
   "outputs": [],
   "source": [
    "y_axe = 9\n",
    "y_axe_name = \"QPS (1/s)\"\n",
    "model_names = [['kNN', 'HNSW', 'kNN + Kl', 'kNN + Kl + dim-red']]\n",
    "num_show = [0, 1, 2, 3, 4]\n",
    "\n",
    "num_exper = [7]\n",
    "num_models = [4]\n",
    "file_names = [path + 'sift.txt']\n",
    "df_sift = get_df(num_models, num_exper, file_names, model_names,  y_axe, y_axe_name, title=\"trash\", num_show=num_show)\n",
    "\n",
    "num_exper = [5]\n",
    "\n",
    "file_names = [path + 'gist.txt']\n",
    "df_gist = get_df(num_models, num_exper, file_names, model_names, y_axe, y_axe_name, title=\"trash\", num_show=num_show)\n",
    "\n",
    "file_names = [path + 'glove.txt']\n",
    "df_glove = get_df(num_models, num_exper, file_names, model_names, y_axe, y_axe_name, title=\"trash\", num_show=num_show)\n",
    "\n",
    "file_names = [path + 'deep.txt']\n",
    "df_deep = get_df(num_models, num_exper, file_names, model_names, y_axe, y_axe_name, title=\"trash\", num_show=num_show)\n",
    "\n",
    "\n",
    "frames = [df_gist, df_sift, df_glove, df_deep]\n",
    "show_results(frames, ['GIST', 'SIFT', 'GloVe', 'DEEP'], y_axe_name,\n",
    "                  y_log=False, x_log=True, dims=(24, 14),\n",
    "                  save=True, file_name='naive_real_datasets_2_2_final')\n"
   ]
  },
  {
   "cell_type": "code",
   "execution_count": null,
   "metadata": {},
   "outputs": [],
   "source": []
  },
  {
   "cell_type": "code",
   "execution_count": null,
   "metadata": {},
   "outputs": [],
   "source": []
  }
 ],
 "metadata": {
  "colab": {
   "collapsed_sections": [
    "rDPclZlM3T79"
   ],
   "name": "knn_vs_klknn_results.ipynb",
   "provenance": [],
   "toc_visible": true
  },
  "kernelspec": {
   "display_name": "Python 3",
   "language": "python",
   "name": "python3"
  },
  "language_info": {
   "codemirror_mode": {
    "name": "ipython",
    "version": 3
   },
   "file_extension": ".py",
   "mimetype": "text/x-python",
   "name": "python",
   "nbconvert_exporter": "python",
   "pygments_lexer": "ipython3",
   "version": "3.7.6"
  }
 },
 "nbformat": 4,
 "nbformat_minor": 1
}
